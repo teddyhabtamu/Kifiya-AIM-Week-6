{
 "cells": [
  {
   "cell_type": "markdown",
   "metadata": {},
   "source": [
    "## Exploratory Data Analysis (EDA)"
   ]
  },
  {
   "cell_type": "code",
   "execution_count": 2,
   "metadata": {},
   "outputs": [],
   "source": [
    "import pandas as pd\n",
    "import matplotlib.pyplot as plt\n",
    "import seaborn as sns"
   ]
  },
  {
   "cell_type": "markdown",
   "metadata": {},
   "source": [
    "## Load the dataset"
   ]
  },
  {
   "cell_type": "code",
   "execution_count": 3,
   "metadata": {},
   "outputs": [],
   "source": [
    "df = pd.read_csv('../assets/datas/data.csv')"
   ]
  },
  {
   "cell_type": "markdown",
   "metadata": {},
   "source": [
    "## Overview of the Data"
   ]
  },
  {
   "cell_type": "code",
   "execution_count": 4,
   "metadata": {},
   "outputs": [
    {
     "name": "stdout",
     "output_type": "stream",
     "text": [
      "Data Overview: \n",
      "         TransactionId         BatchId       AccountId       SubscriptionId  \\\n",
      "0  TransactionId_76871   BatchId_36123  AccountId_3957   SubscriptionId_887   \n",
      "1  TransactionId_73770   BatchId_15642  AccountId_4841  SubscriptionId_3829   \n",
      "2  TransactionId_26203   BatchId_53941  AccountId_4229   SubscriptionId_222   \n",
      "3    TransactionId_380  BatchId_102363   AccountId_648  SubscriptionId_2185   \n",
      "4  TransactionId_28195   BatchId_38780  AccountId_4841  SubscriptionId_3829   \n",
      "\n",
      "        CustomerId CurrencyCode  CountryCode    ProviderId     ProductId  \\\n",
      "0  CustomerId_4406          UGX          256  ProviderId_6  ProductId_10   \n",
      "1  CustomerId_4406          UGX          256  ProviderId_4   ProductId_6   \n",
      "2  CustomerId_4683          UGX          256  ProviderId_6   ProductId_1   \n",
      "3   CustomerId_988          UGX          256  ProviderId_1  ProductId_21   \n",
      "4   CustomerId_988          UGX          256  ProviderId_4   ProductId_6   \n",
      "\n",
      "      ProductCategory    ChannelId   Amount  Value  TransactionStartTime  \\\n",
      "0             airtime  ChannelId_3   1000.0   1000  2018-11-15T02:18:49Z   \n",
      "1  financial_services  ChannelId_2    -20.0     20  2018-11-15T02:19:08Z   \n",
      "2             airtime  ChannelId_3    500.0    500  2018-11-15T02:44:21Z   \n",
      "3        utility_bill  ChannelId_3  20000.0  21800  2018-11-15T03:32:55Z   \n",
      "4  financial_services  ChannelId_2   -644.0    644  2018-11-15T03:34:21Z   \n",
      "\n",
      "   PricingStrategy  FraudResult  \n",
      "0                2            0  \n",
      "1                2            0  \n",
      "2                2            0  \n",
      "3                2            0  \n",
      "4                2            0  \n",
      "Number of rows: 95662\n",
      "Number of columns: 16\n",
      "Data Types: \n",
      "TransactionId            object\n",
      "BatchId                  object\n",
      "AccountId                object\n",
      "SubscriptionId           object\n",
      "CustomerId               object\n",
      "CurrencyCode             object\n",
      "CountryCode               int64\n",
      "ProviderId               object\n",
      "ProductId                object\n",
      "ProductCategory          object\n",
      "ChannelId                object\n",
      "Amount                  float64\n",
      "Value                     int64\n",
      "TransactionStartTime     object\n",
      "PricingStrategy           int64\n",
      "FraudResult               int64\n",
      "dtype: object\n"
     ]
    }
   ],
   "source": [
    "print(\"Data Overview: \")\n",
    "print(df.head())\n",
    "\n",
    "print(f\"Number of rows: {df.shape[0]}\")\n",
    "\n",
    "print(f\"Number of columns: {df.shape[1]}\")\n",
    "\n",
    "print(\"Data Types: \")\n",
    "print(df.dtypes)"
   ]
  },
  {
   "cell_type": "markdown",
   "metadata": {},
   "source": [
    "## Summary Statistics"
   ]
  },
  {
   "cell_type": "markdown",
   "metadata": {},
   "source": [
    "* Numerical features"
   ]
  },
  {
   "cell_type": "code",
   "execution_count": 5,
   "metadata": {},
   "outputs": [],
   "source": [
    "numerical_features = df.select_dtypes(include=['int64', 'float64']).columns"
   ]
  },
  {
   "cell_type": "markdown",
   "metadata": {},
   "source": [
    "* Calculate summary statistics"
   ]
  },
  {
   "cell_type": "code",
   "execution_count": 6,
   "metadata": {},
   "outputs": [
    {
     "name": "stdout",
     "output_type": "stream",
     "text": [
      "Summary Statistics for Numerical Features:\n",
      "                   count         mean            std        min    25%  \\\n",
      "CountryCode      95662.0   256.000000       0.000000      256.0  256.0   \n",
      "Amount           95662.0  6717.846433  123306.797164 -1000000.0  -50.0   \n",
      "Value            95662.0  9900.583941  123122.087776        2.0  275.0   \n",
      "PricingStrategy  95662.0     2.255974       0.732924        0.0    2.0   \n",
      "FraudResult      95662.0     0.002018       0.044872        0.0    0.0   \n",
      "\n",
      "                    50%     75%        max       range     IQR   skewness  \\\n",
      "CountryCode       256.0   256.0      256.0         0.0     0.0   0.000000   \n",
      "Amount           1000.0  2800.0  9880000.0  10880000.0  2850.0  51.098490   \n",
      "Value            1000.0  5000.0  9880000.0   9879998.0  4725.0  51.291086   \n",
      "PricingStrategy     2.0     2.0        4.0         4.0     0.0   1.659057   \n",
      "FraudResult         0.0     0.0        1.0         1.0     0.0  22.196295   \n",
      "\n",
      "                    kurtosis  \n",
      "CountryCode         0.000000  \n",
      "Amount           3363.127739  \n",
      "Value            3378.069274  \n",
      "PricingStrategy     2.087534  \n",
      "FraudResult       490.685762  \n"
     ]
    }
   ],
   "source": [
    "summary_stats = df[numerical_features].describe().T\n",
    "summary_stats['range'] = summary_stats['max'] - summary_stats['min']\n",
    "summary_stats['IQR'] = summary_stats['75%'] - summary_stats['25%']\n",
    "summary_stats['skewness'] = df[numerical_features].skew()\n",
    "summary_stats['kurtosis'] = df[numerical_features].kurtosis()\n",
    "\n",
    "print(\"Summary Statistics for Numerical Features:\")\n",
    "print(summary_stats)\n"
   ]
  },
  {
   "cell_type": "markdown",
   "metadata": {},
   "source": [
    "* Summary statistics for categorical features"
   ]
  },
  {
   "cell_type": "code",
   "execution_count": 7,
   "metadata": {},
   "outputs": [
    {
     "name": "stdout",
     "output_type": "stream",
     "text": [
      "Summary Statistics for Categorical Features:\n",
      "\n",
      "Feature: TransactionId\n",
      "TransactionId\n",
      "TransactionId_35670     1\n",
      "TransactionId_76871     1\n",
      "TransactionId_73770     1\n",
      "TransactionId_26203     1\n",
      "TransactionId_380       1\n",
      "                       ..\n",
      "TransactionId_64044     1\n",
      "TransactionId_98367     1\n",
      "TransactionId_122975    1\n",
      "TransactionId_118831    1\n",
      "TransactionId_86903     1\n",
      "Name: count, Length: 95662, dtype: int64\n",
      "\n",
      "Feature: BatchId\n",
      "BatchId\n",
      "BatchId_67019     28\n",
      "BatchId_51870     16\n",
      "BatchId_113893    14\n",
      "BatchId_127204    12\n",
      "BatchId_116835    10\n",
      "                  ..\n",
      "BatchId_36631      1\n",
      "BatchId_126740     1\n",
      "BatchId_7102       1\n",
      "BatchId_5198       1\n",
      "BatchId_134765     1\n",
      "Name: count, Length: 94809, dtype: int64\n",
      "\n",
      "Feature: AccountId\n",
      "AccountId\n",
      "AccountId_4841    30893\n",
      "AccountId_4249     4457\n",
      "AccountId_4840     1738\n",
      "AccountId_3206     1105\n",
      "AccountId_318      1070\n",
      "                  ...  \n",
      "AccountId_2728        1\n",
      "AccountId_3778        1\n",
      "AccountId_1259        1\n",
      "AccountId_1948        1\n",
      "AccountId_918         1\n",
      "Name: count, Length: 3633, dtype: int64\n",
      "\n",
      "Feature: SubscriptionId\n",
      "SubscriptionId\n",
      "SubscriptionId_3829    32630\n",
      "SubscriptionId_4429     4457\n",
      "SubscriptionId_1372     1105\n",
      "SubscriptionId_3087     1070\n",
      "SubscriptionId_4346      965\n",
      "                       ...  \n",
      "SubscriptionId_1425        1\n",
      "SubscriptionId_1429        1\n",
      "SubscriptionId_2604        1\n",
      "SubscriptionId_756         1\n",
      "SubscriptionId_258         1\n",
      "Name: count, Length: 3627, dtype: int64\n",
      "\n",
      "Feature: CustomerId\n",
      "CustomerId\n",
      "CustomerId_7343    4091\n",
      "CustomerId_3634    2085\n",
      "CustomerId_647     1869\n",
      "CustomerId_1096     784\n",
      "CustomerId_4033     778\n",
      "                   ... \n",
      "CustomerId_4893       1\n",
      "CustomerId_5046       1\n",
      "CustomerId_7420       1\n",
      "CustomerId_7423       1\n",
      "CustomerId_7424       1\n",
      "Name: count, Length: 3742, dtype: int64\n",
      "\n",
      "Feature: CurrencyCode\n",
      "CurrencyCode\n",
      "UGX    95662\n",
      "Name: count, dtype: int64\n",
      "\n",
      "Feature: ProviderId\n",
      "ProviderId\n",
      "ProviderId_4    38189\n",
      "ProviderId_6    34186\n",
      "ProviderId_5    14542\n",
      "ProviderId_1     5643\n",
      "ProviderId_3     3084\n",
      "ProviderId_2       18\n",
      "Name: count, dtype: int64\n",
      "\n",
      "Feature: ProductId\n",
      "ProductId\n",
      "ProductId_6     32635\n",
      "ProductId_3     24344\n",
      "ProductId_10    15384\n",
      "ProductId_15    11964\n",
      "ProductId_1      2885\n",
      "ProductId_4      2403\n",
      "ProductId_21     1512\n",
      "ProductId_11     1377\n",
      "ProductId_19      965\n",
      "ProductId_14      789\n",
      "ProductId_13      296\n",
      "ProductId_2       236\n",
      "ProductId_20      216\n",
      "ProductId_8       197\n",
      "ProductId_24      175\n",
      "ProductId_22      112\n",
      "ProductId_7        86\n",
      "ProductId_27       31\n",
      "ProductId_5        25\n",
      "ProductId_9        17\n",
      "ProductId_16       10\n",
      "ProductId_12        2\n",
      "ProductId_23        1\n",
      "Name: count, dtype: int64\n",
      "\n",
      "Feature: ProductCategory\n",
      "ProductCategory\n",
      "financial_services    45405\n",
      "airtime               45027\n",
      "utility_bill           1920\n",
      "data_bundles           1613\n",
      "tv                     1279\n",
      "ticket                  216\n",
      "movies                  175\n",
      "transport                25\n",
      "other                     2\n",
      "Name: count, dtype: int64\n",
      "\n",
      "Feature: ChannelId\n",
      "ChannelId\n",
      "ChannelId_3    56935\n",
      "ChannelId_2    37141\n",
      "ChannelId_5     1048\n",
      "ChannelId_1      538\n",
      "Name: count, dtype: int64\n",
      "\n",
      "Feature: TransactionStartTime\n",
      "TransactionStartTime\n",
      "2018-12-24T16:30:13Z    17\n",
      "2018-11-15T07:03:26Z     9\n",
      "2018-12-24T16:30:12Z     6\n",
      "2018-12-07T13:09:44Z     6\n",
      "2018-11-15T07:03:27Z     5\n",
      "                        ..\n",
      "2018-12-18T17:43:50Z     1\n",
      "2018-12-18T17:42:49Z     1\n",
      "2018-12-18T17:42:31Z     1\n",
      "2018-12-18T17:42:15Z     1\n",
      "2018-12-18T17:49:44Z     1\n",
      "Name: count, Length: 94556, dtype: int64\n"
     ]
    }
   ],
   "source": [
    "categorical_features = df.select_dtypes(include=['object']).columns\n",
    "\n",
    "print(\"Summary Statistics for Categorical Features:\")\n",
    "for feature in categorical_features:\n",
    "    print(f\"\\nFeature: {feature}\")\n",
    "    print(df[feature].value_counts())"
   ]
  },
  {
   "cell_type": "markdown",
   "metadata": {},
   "source": []
  }
 ],
 "metadata": {
  "kernelspec": {
   "display_name": ".venv",
   "language": "python",
   "name": "python3"
  },
  "language_info": {
   "codemirror_mode": {
    "name": "ipython",
    "version": 3
   },
   "file_extension": ".py",
   "mimetype": "text/x-python",
   "name": "python",
   "nbconvert_exporter": "python",
   "pygments_lexer": "ipython3",
   "version": "3.10.12"
  }
 },
 "nbformat": 4,
 "nbformat_minor": 2
}
